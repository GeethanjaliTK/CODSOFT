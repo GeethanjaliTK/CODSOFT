{
 "cells": [
  {
   "cell_type": "code",
   "execution_count": 43,
   "id": "1ebea09a",
   "metadata": {},
   "outputs": [],
   "source": [
    "import warnings\n",
    "warnings.filterwarnings(\"ignore\")"
   ]
  },
  {
   "cell_type": "code",
   "execution_count": 44,
   "id": "2f55207b",
   "metadata": {},
   "outputs": [
    {
     "data": {
      "text/html": [
       "<div>\n",
       "<style scoped>\n",
       "    .dataframe tbody tr th:only-of-type {\n",
       "        vertical-align: middle;\n",
       "    }\n",
       "\n",
       "    .dataframe tbody tr th {\n",
       "        vertical-align: top;\n",
       "    }\n",
       "\n",
       "    .dataframe thead th {\n",
       "        text-align: right;\n",
       "    }\n",
       "</style>\n",
       "<table border=\"1\" class=\"dataframe\">\n",
       "  <thead>\n",
       "    <tr style=\"text-align: right;\">\n",
       "      <th></th>\n",
       "      <th>Time</th>\n",
       "      <th>V1</th>\n",
       "      <th>V2</th>\n",
       "      <th>V3</th>\n",
       "      <th>V4</th>\n",
       "      <th>V5</th>\n",
       "      <th>V6</th>\n",
       "      <th>V7</th>\n",
       "      <th>V8</th>\n",
       "      <th>V9</th>\n",
       "      <th>...</th>\n",
       "      <th>V21</th>\n",
       "      <th>V22</th>\n",
       "      <th>V23</th>\n",
       "      <th>V24</th>\n",
       "      <th>V25</th>\n",
       "      <th>V26</th>\n",
       "      <th>V27</th>\n",
       "      <th>V28</th>\n",
       "      <th>Amount</th>\n",
       "      <th>Class</th>\n",
       "    </tr>\n",
       "  </thead>\n",
       "  <tbody>\n",
       "    <tr>\n",
       "      <th>0</th>\n",
       "      <td>0.0</td>\n",
       "      <td>-1.359807</td>\n",
       "      <td>-0.072781</td>\n",
       "      <td>2.536347</td>\n",
       "      <td>1.378155</td>\n",
       "      <td>-0.338321</td>\n",
       "      <td>0.462388</td>\n",
       "      <td>0.239599</td>\n",
       "      <td>0.098698</td>\n",
       "      <td>0.363787</td>\n",
       "      <td>...</td>\n",
       "      <td>-0.018307</td>\n",
       "      <td>0.277838</td>\n",
       "      <td>-0.110474</td>\n",
       "      <td>0.066928</td>\n",
       "      <td>0.128539</td>\n",
       "      <td>-0.189115</td>\n",
       "      <td>0.133558</td>\n",
       "      <td>-0.021053</td>\n",
       "      <td>149.62</td>\n",
       "      <td>0</td>\n",
       "    </tr>\n",
       "    <tr>\n",
       "      <th>1</th>\n",
       "      <td>0.0</td>\n",
       "      <td>1.191857</td>\n",
       "      <td>0.266151</td>\n",
       "      <td>0.166480</td>\n",
       "      <td>0.448154</td>\n",
       "      <td>0.060018</td>\n",
       "      <td>-0.082361</td>\n",
       "      <td>-0.078803</td>\n",
       "      <td>0.085102</td>\n",
       "      <td>-0.255425</td>\n",
       "      <td>...</td>\n",
       "      <td>-0.225775</td>\n",
       "      <td>-0.638672</td>\n",
       "      <td>0.101288</td>\n",
       "      <td>-0.339846</td>\n",
       "      <td>0.167170</td>\n",
       "      <td>0.125895</td>\n",
       "      <td>-0.008983</td>\n",
       "      <td>0.014724</td>\n",
       "      <td>2.69</td>\n",
       "      <td>0</td>\n",
       "    </tr>\n",
       "    <tr>\n",
       "      <th>2</th>\n",
       "      <td>1.0</td>\n",
       "      <td>-1.358354</td>\n",
       "      <td>-1.340163</td>\n",
       "      <td>1.773209</td>\n",
       "      <td>0.379780</td>\n",
       "      <td>-0.503198</td>\n",
       "      <td>1.800499</td>\n",
       "      <td>0.791461</td>\n",
       "      <td>0.247676</td>\n",
       "      <td>-1.514654</td>\n",
       "      <td>...</td>\n",
       "      <td>0.247998</td>\n",
       "      <td>0.771679</td>\n",
       "      <td>0.909412</td>\n",
       "      <td>-0.689281</td>\n",
       "      <td>-0.327642</td>\n",
       "      <td>-0.139097</td>\n",
       "      <td>-0.055353</td>\n",
       "      <td>-0.059752</td>\n",
       "      <td>378.66</td>\n",
       "      <td>0</td>\n",
       "    </tr>\n",
       "    <tr>\n",
       "      <th>3</th>\n",
       "      <td>1.0</td>\n",
       "      <td>-0.966272</td>\n",
       "      <td>-0.185226</td>\n",
       "      <td>1.792993</td>\n",
       "      <td>-0.863291</td>\n",
       "      <td>-0.010309</td>\n",
       "      <td>1.247203</td>\n",
       "      <td>0.237609</td>\n",
       "      <td>0.377436</td>\n",
       "      <td>-1.387024</td>\n",
       "      <td>...</td>\n",
       "      <td>-0.108300</td>\n",
       "      <td>0.005274</td>\n",
       "      <td>-0.190321</td>\n",
       "      <td>-1.175575</td>\n",
       "      <td>0.647376</td>\n",
       "      <td>-0.221929</td>\n",
       "      <td>0.062723</td>\n",
       "      <td>0.061458</td>\n",
       "      <td>123.50</td>\n",
       "      <td>0</td>\n",
       "    </tr>\n",
       "    <tr>\n",
       "      <th>4</th>\n",
       "      <td>2.0</td>\n",
       "      <td>-1.158233</td>\n",
       "      <td>0.877737</td>\n",
       "      <td>1.548718</td>\n",
       "      <td>0.403034</td>\n",
       "      <td>-0.407193</td>\n",
       "      <td>0.095921</td>\n",
       "      <td>0.592941</td>\n",
       "      <td>-0.270533</td>\n",
       "      <td>0.817739</td>\n",
       "      <td>...</td>\n",
       "      <td>-0.009431</td>\n",
       "      <td>0.798278</td>\n",
       "      <td>-0.137458</td>\n",
       "      <td>0.141267</td>\n",
       "      <td>-0.206010</td>\n",
       "      <td>0.502292</td>\n",
       "      <td>0.219422</td>\n",
       "      <td>0.215153</td>\n",
       "      <td>69.99</td>\n",
       "      <td>0</td>\n",
       "    </tr>\n",
       "  </tbody>\n",
       "</table>\n",
       "<p>5 rows × 31 columns</p>\n",
       "</div>"
      ],
      "text/plain": [
       "   Time        V1        V2        V3        V4        V5        V6        V7  \\\n",
       "0   0.0 -1.359807 -0.072781  2.536347  1.378155 -0.338321  0.462388  0.239599   \n",
       "1   0.0  1.191857  0.266151  0.166480  0.448154  0.060018 -0.082361 -0.078803   \n",
       "2   1.0 -1.358354 -1.340163  1.773209  0.379780 -0.503198  1.800499  0.791461   \n",
       "3   1.0 -0.966272 -0.185226  1.792993 -0.863291 -0.010309  1.247203  0.237609   \n",
       "4   2.0 -1.158233  0.877737  1.548718  0.403034 -0.407193  0.095921  0.592941   \n",
       "\n",
       "         V8        V9  ...       V21       V22       V23       V24       V25  \\\n",
       "0  0.098698  0.363787  ... -0.018307  0.277838 -0.110474  0.066928  0.128539   \n",
       "1  0.085102 -0.255425  ... -0.225775 -0.638672  0.101288 -0.339846  0.167170   \n",
       "2  0.247676 -1.514654  ...  0.247998  0.771679  0.909412 -0.689281 -0.327642   \n",
       "3  0.377436 -1.387024  ... -0.108300  0.005274 -0.190321 -1.175575  0.647376   \n",
       "4 -0.270533  0.817739  ... -0.009431  0.798278 -0.137458  0.141267 -0.206010   \n",
       "\n",
       "        V26       V27       V28  Amount  Class  \n",
       "0 -0.189115  0.133558 -0.021053  149.62      0  \n",
       "1  0.125895 -0.008983  0.014724    2.69      0  \n",
       "2 -0.139097 -0.055353 -0.059752  378.66      0  \n",
       "3 -0.221929  0.062723  0.061458  123.50      0  \n",
       "4  0.502292  0.219422  0.215153   69.99      0  \n",
       "\n",
       "[5 rows x 31 columns]"
      ]
     },
     "execution_count": 44,
     "metadata": {},
     "output_type": "execute_result"
    }
   ],
   "source": [
    "import pandas as pd\n",
    "credit_card=pd.read_csv(\"C:\\\\Users\\\\geeth\\\\OneDrive\\\\Desktop\\\\credit_card\\\\creditcard.csv\")\n",
    "credit_card.head()"
   ]
  },
  {
   "cell_type": "code",
   "execution_count": 45,
   "id": "1e772b7c",
   "metadata": {},
   "outputs": [
    {
     "data": {
      "text/plain": [
       "(284807, 31)"
      ]
     },
     "execution_count": 45,
     "metadata": {},
     "output_type": "execute_result"
    }
   ],
   "source": [
    "credit_card.shape"
   ]
  },
  {
   "cell_type": "code",
   "execution_count": 46,
   "id": "45b0fbcc",
   "metadata": {},
   "outputs": [
    {
     "data": {
      "text/plain": [
       "Time      0\n",
       "V1        0\n",
       "V2        0\n",
       "V3        0\n",
       "V4        0\n",
       "V5        0\n",
       "V6        0\n",
       "V7        0\n",
       "V8        0\n",
       "V9        0\n",
       "V10       0\n",
       "V11       0\n",
       "V12       0\n",
       "V13       0\n",
       "V14       0\n",
       "V15       0\n",
       "V16       0\n",
       "V17       0\n",
       "V18       0\n",
       "V19       0\n",
       "V20       0\n",
       "V21       0\n",
       "V22       0\n",
       "V23       0\n",
       "V24       0\n",
       "V25       0\n",
       "V26       0\n",
       "V27       0\n",
       "V28       0\n",
       "Amount    0\n",
       "Class     0\n",
       "dtype: int64"
      ]
     },
     "execution_count": 46,
     "metadata": {},
     "output_type": "execute_result"
    }
   ],
   "source": [
    "#Checking for missing values\n",
    "credit_card.isnull().sum()"
   ]
  },
  {
   "cell_type": "markdown",
   "id": "9adadb60",
   "metadata": {},
   "source": [
    "# Normalize the features 'Amount' and 'Time'"
   ]
  },
  {
   "cell_type": "markdown",
   "id": "e5c6fe39",
   "metadata": {},
   "source": [
    "The features V1, V2, ..., V28 are the result of a PCA transformation. Amount' and 'Time' are not part of the PCA transformation.\n",
    "So, we have to normalize them."
   ]
  },
  {
   "cell_type": "code",
   "execution_count": 47,
   "id": "5bc870ee",
   "metadata": {},
   "outputs": [],
   "source": [
    "from sklearn.preprocessing import StandardScaler\n",
    "scaler=StandardScaler()\n",
    "credit_card[\"Amount\"]=scaler.fit_transform(credit_card[[\"Amount\"]])\n",
    "credit_card[\"Time\"]=scaler.fit_transform(credit_card[[\"Time\"]])"
   ]
  },
  {
   "cell_type": "markdown",
   "id": "60545773",
   "metadata": {},
   "source": [
    "# Train Test Split"
   ]
  },
  {
   "cell_type": "code",
   "execution_count": 48,
   "id": "610a1965",
   "metadata": {},
   "outputs": [],
   "source": [
    "X=credit_card.drop([\"Class\"],axis=1)\n",
    "y=credit_card[\"Class\"]"
   ]
  },
  {
   "cell_type": "code",
   "execution_count": 49,
   "id": "0a178037",
   "metadata": {},
   "outputs": [],
   "source": [
    "from sklearn.model_selection import train_test_split\n",
    "X_train,X_test,y_train,y_test=train_test_split(X,y,test_size=0.2,random_state=42)"
   ]
  },
  {
   "cell_type": "code",
   "execution_count": null,
   "id": "7e8e9cbf",
   "metadata": {},
   "outputs": [],
   "source": []
  },
  {
   "cell_type": "code",
   "execution_count": 50,
   "id": "86a9c371",
   "metadata": {},
   "outputs": [
    {
     "data": {
      "text/plain": [
       "0    284315\n",
       "1       492\n",
       "Name: Class, dtype: int64"
      ]
     },
     "execution_count": 50,
     "metadata": {},
     "output_type": "execute_result"
    }
   ],
   "source": [
    "#Checking if there is imbalance in dataset\n",
    "credit_card[\"Class\"].value_counts()"
   ]
  },
  {
   "cell_type": "markdown",
   "id": "fe4334cb",
   "metadata": {},
   "source": [
    "# Handle Class imbalance using SMOTE(oversampling)"
   ]
  },
  {
   "cell_type": "code",
   "execution_count": 51,
   "id": "ac9877c2",
   "metadata": {},
   "outputs": [],
   "source": [
    "from imblearn.over_sampling import SMOTE\n",
    "smote=SMOTE(random_state=42)\n",
    "X_train_resample,y_train_resample=smote.fit_resample(X_train,y_train)"
   ]
  },
  {
   "cell_type": "markdown",
   "id": "e391a0c3",
   "metadata": {},
   "source": [
    "# Building Logistic Regression Model with oversampling"
   ]
  },
  {
   "cell_type": "code",
   "execution_count": 52,
   "id": "030936cc",
   "metadata": {},
   "outputs": [],
   "source": [
    "from sklearn.linear_model import LogisticRegression\n",
    "log_model=LogisticRegression(max_iter=1000)\n",
    "log_model.fit(X_train_resample,y_train_resample)\n",
    "y_pred_log_model=log_model.predict(X_test)"
   ]
  },
  {
   "cell_type": "markdown",
   "id": "7eb6ffc4",
   "metadata": {},
   "source": [
    "# Evaluating Logistic Regression Model with oversampling"
   ]
  },
  {
   "cell_type": "code",
   "execution_count": 53,
   "id": "96582fd7",
   "metadata": {},
   "outputs": [],
   "source": [
    "from sklearn.metrics import classification_report,confusion_matrix,accuracy_score\n",
    "CR_log_model=classification_report(y_test,y_pred_log_model)\n",
    "CM_log_model=confusion_matrix(y_test,y_pred_log_model)\n",
    "acc_log_model=accuracy_score(y_test,y_pred_log_model)"
   ]
  },
  {
   "cell_type": "code",
   "execution_count": 54,
   "id": "cf4719df",
   "metadata": {},
   "outputs": [
    {
     "name": "stdout",
     "output_type": "stream",
     "text": [
      "Classification Report:               precision    recall  f1-score   support\n",
      "\n",
      "           0       1.00      0.97      0.99     56864\n",
      "           1       0.06      0.93      0.11        98\n",
      "\n",
      "    accuracy                           0.97     56962\n",
      "   macro avg       0.53      0.95      0.55     56962\n",
      "weighted avg       1.00      0.97      0.99     56962\n",
      "\n"
     ]
    }
   ],
   "source": [
    "print(\"Classification Report:\",CR_log_model)"
   ]
  },
  {
   "cell_type": "code",
   "execution_count": 55,
   "id": "ffcd7943",
   "metadata": {},
   "outputs": [
    {
     "name": "stdout",
     "output_type": "stream",
     "text": [
      "Confusion Matrix [[55423  1441]\n",
      " [    7    91]]\n"
     ]
    }
   ],
   "source": [
    "print(\"Confusion Matrix\",CM_log_model)"
   ]
  },
  {
   "cell_type": "code",
   "execution_count": 56,
   "id": "7ecf581f",
   "metadata": {},
   "outputs": [
    {
     "name": "stdout",
     "output_type": "stream",
     "text": [
      "Accurcay Score: 0.9745795442575752\n"
     ]
    }
   ],
   "source": [
    "print(\"Accurcay Score:\",acc_log_model)"
   ]
  },
  {
   "cell_type": "markdown",
   "id": "48207888",
   "metadata": {},
   "source": [
    "# Building Random Forest Model with oversampling"
   ]
  },
  {
   "cell_type": "code",
   "execution_count": 57,
   "id": "8091bf77",
   "metadata": {},
   "outputs": [],
   "source": [
    "from sklearn.ensemble import RandomForestClassifier\n",
    "RF_model=RandomForestClassifier(n_estimators=100,random_state=42)\n",
    "RF_model.fit(X_train_resample,y_train_resample)\n",
    "y_pred_RF_model=RF_model.predict(X_test)"
   ]
  },
  {
   "cell_type": "markdown",
   "id": "615ffa88",
   "metadata": {},
   "source": [
    "# Evaluating Random Forest Model with oversampling"
   ]
  },
  {
   "cell_type": "code",
   "execution_count": 58,
   "id": "1d9c9d72",
   "metadata": {},
   "outputs": [],
   "source": [
    "CR_RF_model=classification_report(y_test,y_pred_RF_model)\n",
    "CM_RF_model=confusion_matrix(y_test,y_pred_RF_model)\n",
    "acc_RF_model=accuracy_score(y_test,y_pred_RF_model)"
   ]
  },
  {
   "cell_type": "code",
   "execution_count": 59,
   "id": "363601dc",
   "metadata": {},
   "outputs": [
    {
     "name": "stdout",
     "output_type": "stream",
     "text": [
      "Classification Report:               precision    recall  f1-score   support\n",
      "\n",
      "           0       1.00      1.00      1.00     56864\n",
      "           1       0.91      0.83      0.87        98\n",
      "\n",
      "    accuracy                           1.00     56962\n",
      "   macro avg       0.95      0.91      0.93     56962\n",
      "weighted avg       1.00      1.00      1.00     56962\n",
      "\n"
     ]
    }
   ],
   "source": [
    "print(\"Classification Report:\",CR_RF_model)"
   ]
  },
  {
   "cell_type": "code",
   "execution_count": 60,
   "id": "6290f6a2",
   "metadata": {},
   "outputs": [
    {
     "name": "stdout",
     "output_type": "stream",
     "text": [
      "Confusion Matrix [[56856     8]\n",
      " [   17    81]]\n"
     ]
    }
   ],
   "source": [
    "print(\"Confusion Matrix\",CM_RF_model)"
   ]
  },
  {
   "cell_type": "code",
   "execution_count": 61,
   "id": "25d2e689",
   "metadata": {},
   "outputs": [
    {
     "name": "stdout",
     "output_type": "stream",
     "text": [
      "Accurcay Score: 0.9995611109160493\n"
     ]
    }
   ],
   "source": [
    "print(\"Accurcay Score:\",acc_RF_model)"
   ]
  },
  {
   "cell_type": "markdown",
   "id": "835189d8",
   "metadata": {},
   "source": [
    "# Handle Class Imbalance using undersampling"
   ]
  },
  {
   "cell_type": "code",
   "execution_count": 62,
   "id": "64f5f967",
   "metadata": {},
   "outputs": [],
   "source": [
    "from imblearn.under_sampling import RandomUnderSampler\n",
    "under_sampler=RandomUnderSampler(random_state=42)\n",
    "X_train_res_under,y_train_res_under=under_sampler.fit_resample(X_train,y_train)"
   ]
  },
  {
   "cell_type": "markdown",
   "id": "346cb68d",
   "metadata": {},
   "source": [
    "# Building Logistic Regression Model with undersampling"
   ]
  },
  {
   "cell_type": "code",
   "execution_count": 73,
   "id": "7783c907",
   "metadata": {},
   "outputs": [],
   "source": [
    "log_model.fit(X_train_res_under,y_train_res_under)\n",
    "y_pred2_log_model=log_model.predict(X_test)"
   ]
  },
  {
   "cell_type": "markdown",
   "id": "882eb2d3",
   "metadata": {},
   "source": [
    "# Evaluating Logistic Regression Model with undersampling"
   ]
  },
  {
   "cell_type": "code",
   "execution_count": 74,
   "id": "4028b8c7",
   "metadata": {},
   "outputs": [],
   "source": [
    "CR2_log_model=classification_report(y_test,y_pred2_log_model)\n",
    "CM2_log_model=confusion_matrix(y_test,y_pred2_log_model)\n",
    "acc2_log_model=accuracy_score(y_test,y_pred2_log_model)"
   ]
  },
  {
   "cell_type": "code",
   "execution_count": 75,
   "id": "08fb436a",
   "metadata": {},
   "outputs": [
    {
     "name": "stdout",
     "output_type": "stream",
     "text": [
      "Classification Report:               precision    recall  f1-score   support\n",
      "\n",
      "           0       1.00      0.96      0.98     56864\n",
      "           1       0.04      0.93      0.08        98\n",
      "\n",
      "    accuracy                           0.96     56962\n",
      "   macro avg       0.52      0.95      0.53     56962\n",
      "weighted avg       1.00      0.96      0.98     56962\n",
      "\n"
     ]
    }
   ],
   "source": [
    "print(\"Classification Report:\",CR2_log_model)"
   ]
  },
  {
   "cell_type": "code",
   "execution_count": 76,
   "id": "2cda2e73",
   "metadata": {},
   "outputs": [
    {
     "name": "stdout",
     "output_type": "stream",
     "text": [
      "Confusion Matrix [[54802  2062]\n",
      " [    7    91]]\n"
     ]
    }
   ],
   "source": [
    "print(\"Confusion Matrix\",CM2_log_model)"
   ]
  },
  {
   "cell_type": "code",
   "execution_count": 77,
   "id": "2617ce97",
   "metadata": {},
   "outputs": [
    {
     "name": "stdout",
     "output_type": "stream",
     "text": [
      "Accurcay Score: 0.9636775394122398\n"
     ]
    }
   ],
   "source": [
    "print(\"Accurcay Score:\",acc2_log_model)"
   ]
  },
  {
   "cell_type": "markdown",
   "id": "c17a9692",
   "metadata": {},
   "source": [
    "# Building Random Forest Model using undersampling"
   ]
  },
  {
   "cell_type": "code",
   "execution_count": 78,
   "id": "1d2474fb",
   "metadata": {},
   "outputs": [],
   "source": [
    "RF_model.fit(X_train_res_under,y_train_res_under)\n",
    "y_pred2_RF_model=RF_model.predict(X_test)"
   ]
  },
  {
   "cell_type": "markdown",
   "id": "d3692f4e",
   "metadata": {},
   "source": [
    "# Evaluating Random Forest Model using undersampling"
   ]
  },
  {
   "cell_type": "code",
   "execution_count": 79,
   "id": "1034dca2",
   "metadata": {},
   "outputs": [],
   "source": [
    "CR2_RF_model=classification_report(y_test,y_pred2_RF_model)\n",
    "CM2_RF_model=confusion_matrix(y_test,y_pred2_RF_model)\n",
    "acc2_RF_model=accuracy_score(y_test,y_pred2_RF_model)"
   ]
  },
  {
   "cell_type": "code",
   "execution_count": 80,
   "id": "ef267ae7",
   "metadata": {},
   "outputs": [
    {
     "name": "stdout",
     "output_type": "stream",
     "text": [
      "Classification Report:               precision    recall  f1-score   support\n",
      "\n",
      "           0       1.00      0.98      0.99     56864\n",
      "           1       0.06      0.94      0.12        98\n",
      "\n",
      "    accuracy                           0.98     56962\n",
      "   macro avg       0.53      0.96      0.55     56962\n",
      "weighted avg       1.00      0.98      0.99     56962\n",
      "\n"
     ]
    }
   ],
   "source": [
    "print(\"Classification Report:\",CR2_RF_model)"
   ]
  },
  {
   "cell_type": "code",
   "execution_count": 81,
   "id": "a5a19c70",
   "metadata": {},
   "outputs": [
    {
     "name": "stdout",
     "output_type": "stream",
     "text": [
      "Confusion Matrix [[55513  1351]\n",
      " [    6    92]]\n"
     ]
    }
   ],
   "source": [
    "print(\"Confusion Matrix\",CM2_RF_model)"
   ]
  },
  {
   "cell_type": "code",
   "execution_count": 82,
   "id": "7bbedfdf",
   "metadata": {},
   "outputs": [
    {
     "name": "stdout",
     "output_type": "stream",
     "text": [
      "Accurcay Score: 0.9761771005231558\n"
     ]
    }
   ],
   "source": [
    "print(\"Accurcay Score:\",acc2_RF_model)"
   ]
  },
  {
   "cell_type": "raw",
   "id": "bf416fd4",
   "metadata": {},
   "source": []
  }
 ],
 "metadata": {
  "kernelspec": {
   "display_name": "Python 3 (ipykernel)",
   "language": "python",
   "name": "python3"
  },
  "language_info": {
   "codemirror_mode": {
    "name": "ipython",
    "version": 3
   },
   "file_extension": ".py",
   "mimetype": "text/x-python",
   "name": "python",
   "nbconvert_exporter": "python",
   "pygments_lexer": "ipython3",
   "version": "3.11.4"
  }
 },
 "nbformat": 4,
 "nbformat_minor": 5
}
